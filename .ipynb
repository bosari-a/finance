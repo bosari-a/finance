{
 "cells": [
  {
   "cell_type": "code",
   "execution_count": 10,
   "metadata": {},
   "outputs": [
    {
     "name": "stdout",
     "output_type": "stream",
     "text": [
      "False\n"
     ]
    }
   ],
   "source": [
    "a = [{'a':1, 'b':2},{'c':1, 'd':2},{'e':1, 'f':2}]\n",
    "\n",
    "has = False\n",
    "for d in a:\n",
    "    if d.get('c') == 2:\n",
    "        has = True\n",
    "        break\n",
    "    else:\n",
    "        continue\n",
    "print(has)"
   ]
  },
  {
   "cell_type": "code",
   "execution_count": 16,
   "metadata": {},
   "outputs": [
    {
     "name": "stdout",
     "output_type": "stream",
     "text": [
      "True\n"
     ]
    }
   ],
   "source": [
    "a=\"            jnkj     \\n\\n\"\n",
    "print(a.strip()==a.strip())"
   ]
  },
  {
   "cell_type": "code",
   "execution_count": 13,
   "metadata": {},
   "outputs": [
    {
     "name": "stdout",
     "output_type": "stream",
     "text": [
      "07/09/2023 06:49 AM\n"
     ]
    }
   ],
   "source": [
    "from datetime import datetime\n",
    "\n",
    "d = '2023-09-07 06:49:50'\n",
    "\n",
    "\n",
    "d_ = datetime.strptime(d, '%Y-%m-%d %H:%M:%S')\n",
    "d_ = d_.strftime(\"%d/%m/%Y %I:%M %p\")\n",
    "print(d_)\n"
   ]
  },
  {
   "cell_type": "code",
   "execution_count": null,
   "metadata": {},
   "outputs": [],
   "source": [
    "a = 1\n",
    "b = 1.5\n",
    "\n",
    "double(a)\n",
    "double(b)"
   ]
  },
  {
   "cell_type": "code",
   "execution_count": 20,
   "metadata": {},
   "outputs": [
    {
     "name": "stdout",
     "output_type": "stream",
     "text": [
      "1\n"
     ]
    }
   ],
   "source": [
    "from cs50 import SQL\n",
    "from pprint import pprint\n",
    "db = SQL(\"sqlite:///finance.db\")\n",
    "\n",
    "r = db.execute(\"select username from users where username = ?\",'marisa')\n",
    "print(len(r))"
   ]
  }
 ],
 "metadata": {
  "kernelspec": {
   "display_name": "venv",
   "language": "python",
   "name": "python3"
  },
  "language_info": {
   "codemirror_mode": {
    "name": "ipython",
    "version": 3
   },
   "file_extension": ".py",
   "mimetype": "text/x-python",
   "name": "python",
   "nbconvert_exporter": "python",
   "pygments_lexer": "ipython3",
   "version": "3.10.12"
  },
  "orig_nbformat": 4
 },
 "nbformat": 4,
 "nbformat_minor": 2
}
